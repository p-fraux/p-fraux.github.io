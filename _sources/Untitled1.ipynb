{
 "cells": [
  {
   "cell_type": "code",
   "execution_count": 1,
   "id": "8b93219f-75e8-4efe-a141-dcdd2347d7d4",
   "metadata": {},
   "outputs": [
    {
     "name": "stderr",
     "output_type": "stream",
     "text": [
      "pdflatex terminated with signal 127\n",
      "command:\n",
      "    pdflatex --shell-escape tikz.tex\n",
      "tkiz.tex:\n",
      "\n",
      "    \\documentclass[convert={convertexe={convert},density=300,size=400x240,outext=.png},border=0pt]{standalone}\n",
      "    \\usepackage[]{tikz}\n",
      "\n",
      "    \\begin{document}\n",
      "    \\begin{tikzpicture}[]\n",
      "    \\path[->,linewidth=1pt](zero)edge[bendright]node[left]{Recherchedesaprécision}(two);\n",
      "    \\end{tikzpicture}\n",
      "    \\end{document}\n",
      "\n",
      "stdout:\n",
      "\n",
      "stderr:\n",
      "    /bin/sh: pdflatex: command not found\n",
      "\n",
      "No image generated.\n"
     ]
    }
   ],
   "source": [
    "%load_ext tikzmagic\n",
    "%tikz \\path[->, line width=1pt](zero) edge [ bend right ] node [ left ] {Recherche de sa précision} (two) ;"
   ]
  },
  {
   "cell_type": "code",
   "execution_count": null,
   "id": "7289add5-126f-4235-af3e-486325693b80",
   "metadata": {},
   "outputs": [],
   "source": []
  }
 ],
 "metadata": {
  "kernelspec": {
   "display_name": "Python 3 (ipykernel)",
   "language": "python",
   "name": "python3"
  },
  "language_info": {
   "codemirror_mode": {
    "name": "ipython",
    "version": 3
   },
   "file_extension": ".py",
   "mimetype": "text/x-python",
   "name": "python",
   "nbconvert_exporter": "python",
   "pygments_lexer": "ipython3",
   "version": "3.9.7"
  }
 },
 "nbformat": 4,
 "nbformat_minor": 5
}
